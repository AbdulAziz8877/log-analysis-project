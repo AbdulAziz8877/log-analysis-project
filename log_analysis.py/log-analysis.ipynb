{
 "cells": [
  {
   "cell_type": "code",
   "execution_count": 6,
   "metadata": {},
   "outputs": [],
   "source": [
    "log_file_path = r'D:\\log_analysis.py\\sample.log'\n"
   ]
  },
  {
   "cell_type": "code",
   "execution_count": 7,
   "metadata": {},
   "outputs": [
    {
     "name": "stdout",
     "output_type": "stream",
     "text": [
      "Requests per IP Address:\n",
      "192.168.1.1: 7\n",
      "203.0.113.5: 8\n",
      "10.0.0.2: 6\n",
      "198.51.100.23: 8\n",
      "192.168.1.100: 5\n",
      "\n",
      "Most Accessed Endpoint:\n",
      "/login (Accessed 13 times)\n",
      "\n",
      "Suspicious Activity Detected:\n"
     ]
    }
   ],
   "source": [
    "import re\n",
    "from collections import Counter\n",
    "import csv\n",
    "\n",
    "# Path to the log file (update with actual path)\n",
    "log_file_path = r'D:\\log_analysis.py\\sample.log'\n",
    "\n",
    "def parse_log_file(log_file_path):\n",
    "    \"\"\"\n",
    "    Parse the log file to extract IP addresses, endpoints, and failed login attempts.\n",
    "    Returns three counters: IP counts, endpoint counts, and failed login counts.\n",
    "    \"\"\"\n",
    "    ip_counter = Counter()\n",
    "    endpoint_counter = Counter()\n",
    "    failed_logins = Counter()\n",
    "\n",
    "    try:\n",
    "        with open(log_file_path, 'r') as file:\n",
    "            for line in file:\n",
    "                # Extract IP, endpoint, and HTTP status from the log line\n",
    "                ip = re.search(r'(\\d+\\.\\d+\\.\\d+\\.\\d+)', line)\n",
    "                endpoint = re.search(r'\"[A-Z]+\\s(.*?)\\sHTTP', line)\n",
    "                status_code = re.search(r'HTTP/1.1\" (\\d+)', line)\n",
    "\n",
    "                # If data found, update counters\n",
    "                if ip and endpoint and status_code:\n",
    "                    ip = ip.group()\n",
    "                    endpoint = endpoint.group(1)\n",
    "                    status_code = status_code.group(1)\n",
    "\n",
    "                    ip_counter[ip] += 1\n",
    "                    endpoint_counter[endpoint] += 1\n",
    "                    if status_code == '401':  # Track failed logins\n",
    "                        failed_logins[ip] += 1\n",
    "\n",
    "    except FileNotFoundError:\n",
    "        print(f\"Error: File at {log_file_path} not found.\")\n",
    "        return Counter(), Counter(), Counter()\n",
    "\n",
    "    return ip_counter, endpoint_counter, failed_logins\n",
    "\n",
    "def print_and_save_results(ip_counter, endpoint_counter, failed_logins):\n",
    "    \"\"\"\n",
    "    Print analysis results to the console and save them to a CSV file.\n",
    "    \"\"\"\n",
    "    # Most frequently accessed endpoint\n",
    "    most_accessed = endpoint_counter.most_common(1)[0] if endpoint_counter else None\n",
    "\n",
    "    print(\"Requests per IP Address:\")\n",
    "    for ip, count in ip_counter.items():\n",
    "        print(f\"{ip}: {count}\")\n",
    "\n",
    "    if most_accessed:\n",
    "        print(f\"\\nMost Accessed Endpoint:\\n{most_accessed[0]} (Accessed {most_accessed[1]} times)\")\n",
    "\n",
    "    print(\"\\nSuspicious Activity Detected:\")\n",
    "    for ip, count in failed_logins.items():\n",
    "        if count > 10:  # Threshold for suspicious activity\n",
    "            print(f\"{ip}: {count} failed login attempts\")\n",
    "\n",
    "    # Save results to CSV\n",
    "    with open('log_analysis_results.csv', 'w', newline='') as csvfile:\n",
    "        writer = csv.writer(csvfile)\n",
    "        writer.writerow(['IP Address', 'Request Count'])\n",
    "        for ip, count in ip_counter.items():\n",
    "            writer.writerow([ip, count])\n",
    "\n",
    "        if most_accessed:\n",
    "            writer.writerow(['Endpoint', 'Access Count'])\n",
    "            writer.writerow([most_accessed[0], most_accessed[1]])\n",
    "\n",
    "        writer.writerow(['IP Address', 'Failed Login Count'])\n",
    "        for ip, count in failed_logins.items():\n",
    "            if count > 10:\n",
    "                writer.writerow([ip, count])\n",
    "\n",
    "# Execute and print results\n",
    "ip_counter, endpoint_counter, failed_logins = parse_log_file(log_file_path)\n",
    "print_and_save_results(ip_counter, endpoint_counter, failed_logins)\n"
   ]
  }
 ],
 "metadata": {
  "kernelspec": {
   "display_name": "Python 3",
   "language": "python",
   "name": "python3"
  },
  "language_info": {
   "codemirror_mode": {
    "name": "ipython",
    "version": 3
   },
   "file_extension": ".py",
   "mimetype": "text/x-python",
   "name": "python",
   "nbconvert_exporter": "python",
   "pygments_lexer": "ipython3",
   "version": "3.11.9"
  }
 },
 "nbformat": 4,
 "nbformat_minor": 2
}
